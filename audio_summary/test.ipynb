{
 "cells": [
  {
   "cell_type": "code",
   "execution_count": 1,
   "metadata": {},
   "outputs": [],
   "source": [
    "import os"
   ]
  },
  {
   "cell_type": "code",
   "execution_count": 7,
   "metadata": {},
   "outputs": [
    {
     "name": "stdout",
     "output_type": "stream",
     "text": [
      "['audio2text.py', 'Gemeni1.5 code.ipynb', 'Gemeni1.5.ipynb', 'Gemeni_code_exe.py', 'Gemini_translation_agent.ipynb', 'Gemini_zl.ipynb', 'genimilatest_google.ipynb', 'Genimi_translation_agent.py', 'Grop.ipynb', 'Grop.py', 'Grop_audio2text.ipynb', 'groq_srt.py', 'Idiom_book.ipynb', 'image.jpg', 'image1.jpg', 'image2.jpg', 'image3.jpg', 'image5.jpg', 'image6.jpg', 'licensed-image.jpg', 'Market_a_Jet_Backpack.ipynb', 'Prompting.ipynb', 'proxy_genimi_api.js', 'README.md', 'refactored-audio2text.py', 'Safety.ipynb', 'subtitles.txt', 'test_translation.py', 'utils.py', 'vedio.mp4', 'Video.ipynb', '字幕.json']\n",
      "['COMMIT_EDITMSG', 'config', 'description', 'FETCH_HEAD', 'HEAD', 'index', 'ORIG_HEAD']\n",
      "['applypatch-msg.sample', 'commit-msg.sample', 'fsmonitor-watchman.sample', 'post-update.sample', 'pre-applypatch.sample', 'pre-commit.sample', 'pre-merge-commit.sample', 'pre-push.sample', 'pre-rebase.sample', 'pre-receive.sample', 'prepare-commit-msg.sample', 'push-to-checkout.sample', 'sendemail-validate.sample', 'update.sample']\n",
      "['exclude']\n",
      "['HEAD']\n",
      "[]\n",
      "['master']\n",
      "[]\n",
      "['master']\n",
      "[]\n",
      "['780e8635d481a884dcff9c956b6f8005a401d1']\n",
      "['a023390a0b6a578ae46ab7f121660c99a33746', 'ed6bc40f41cf3747850021546da1ec2f0ff993']\n",
      "['e2a8996b16d82bf4b0d7f3229d3d095c43908e']\n",
      "['08d14e67f52136dddbc9ff7ce447e4884728c3']\n",
      "['8f6e20325fccea03888ea980addb225c35e93c']\n",
      "['c90f777da0d9290fd96ec664f36427aec550d4']\n",
      "['392d8cf30394e76670ade0d825f589c1d3df3b']\n",
      "['fb916fdd991d325c544024f243322aec429d8c']\n",
      "['7c1391bfef38d7fdb3c091ccfb9d1d9664e941']\n",
      "['c22d428f93ab38590d8c4026f43ca18963f395']\n",
      "['810ba41d28e79aabcca8a8c87c067d588b74e9']\n",
      "['c48679d3a4df0e31025c81fb55d78a076c5742']\n",
      "['442a29d19874a70a5878ed816ffd29ec39f5bc']\n",
      "['f4f5d3f1bd64c5f40039fd378f41f17649f52a']\n",
      "['43b05a45327b5955359e691b9f3cb11b950eac']\n",
      "['288f12fed161eecdb2e496a557902af4d902fd']\n",
      "['5cf073761c596a6d57aa4c2a3f9b3f29dad0ea']\n",
      "['168e640ff6d65f62b767a88eedf8c9de56fa8a']\n",
      "['d481d85335fc6684115d8218e1b97f432ea990']\n",
      "['37910138cdf8dfa3fb4e894f2a3681737df018']\n",
      "['9ba46db52f47ec29c1b8e35402a9e3c2aa7199']\n",
      "['9651d58bd192cfb93541cd9f8d7e7da39479d4']\n",
      "['7b20f4f92d551289feac400319693e2b7a12ea']\n",
      "['42ba4d89f0e22c52bf4389df33e6ea73e95055']\n",
      "['7b3d208cd2c4bb751ffc559404aa0212b1e681']\n",
      "['f02e02ae5efafa04479f7fd81dc3203ef3768b']\n",
      "['0cc69eb3c9f6857c6ea126be627127d3363506']\n",
      "['793ce85129b0d6e74acd9fe6ca264d3b4069c3']\n",
      "['a5bfe7241a86a78f84de7b594b01ea42f77d88']\n",
      "['06ff7dc0568b9a7399e07b07a011f304098ae8']\n",
      "['c240686bd2c311e93d07933a7f10a7b9dce113']\n",
      "['ae942e18b4012c6c28f0e5af0fbfac49cf87f6']\n",
      "['4b48f8f282fc25ab95dc2492b3511bbbe53292']\n",
      "['510029d4610279b777294954ee9dd0f24c6b7b']\n",
      "['1c78e61b341a1e16214953ab1e2002e32f94b4']\n",
      "['06079bf03b790d7e8a39f8d30da8db1fc339be']\n",
      "['bbdc5f7380b89477ebe3945de6afd5c8367f8b']\n",
      "['792b75e9469b8ea7bc80f1603a5d40e2c79f30']\n",
      "['35283495a69bf26b22b6e447ef4cd872c61b91']\n",
      "['76c839de34f3f67a6e97fa34c205e2a7e26a11']\n",
      "[]\n",
      "[]\n",
      "[]\n",
      "['master']\n",
      "[]\n",
      "['master']\n",
      "[]\n"
     ]
    }
   ],
   "source": [
    "for dirpath, dirnames, filenames in os.walk(\"D:\\Backup\\LLM\\llm\\ScriptFile\"):\n",
    "    # print(dirpath)\n",
    "    # print(dirnames)\n",
    "    print(filenames)\n",
    "\n",
    "\n"
   ]
  },
  {
   "cell_type": "code",
   "execution_count": 12,
   "metadata": {},
   "outputs": [],
   "source": [
    "def walk_directories(path):\n",
    "    for root, dirs, files in os.walk(path):\n",
    "        for name in files:\n",
    "            if name.lower().endswith('.txt'):\n",
    "                print(os.path.join(root, name))\n",
    "\n",
    "\n"
   ]
  },
  {
   "cell_type": "code",
   "execution_count": 13,
   "metadata": {},
   "outputs": [
    {
     "name": "stdout",
     "output_type": "stream",
     "text": [
      "D:\\Backup\\LLM\\llm\\ScriptFile\\subtitles.txt\n"
     ]
    }
   ],
   "source": [
    "walk_directories(\"D:\\Backup\\LLM\\llm\\ScriptFile\")"
   ]
  },
  {
   "cell_type": "code",
   "execution_count": null,
   "metadata": {},
   "outputs": [],
   "source": []
  }
 ],
 "metadata": {
  "kernelspec": {
   "display_name": "llm",
   "language": "python",
   "name": "python3"
  },
  "language_info": {
   "codemirror_mode": {
    "name": "ipython",
    "version": 3
   },
   "file_extension": ".py",
   "mimetype": "text/x-python",
   "name": "python",
   "nbconvert_exporter": "python",
   "pygments_lexer": "ipython3",
   "version": "3.11.7"
  }
 },
 "nbformat": 4,
 "nbformat_minor": 2
}

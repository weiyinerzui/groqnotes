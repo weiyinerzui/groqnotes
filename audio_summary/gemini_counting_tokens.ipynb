{
 "cells": [
  {
   "cell_type": "code",
   "execution_count": 1,
   "metadata": {},
   "outputs": [
    {
     "name": "stderr",
     "output_type": "stream",
     "text": [
      "d:\\Backup\\LLM\\groqnotes\\venv\\Lib\\site-packages\\tqdm\\auto.py:21: TqdmWarning: IProgress not found. Please update jupyter and ipywidgets. See https://ipywidgets.readthedocs.io/en/stable/user_install.html\n",
      "  from .autonotebook import tqdm as notebook_tqdm\n"
     ]
    }
   ],
   "source": [
    "import os\n",
    "import google.generativeai as genai"
   ]
  },
  {
   "cell_type": "code",
   "execution_count": 2,
   "metadata": {},
   "outputs": [],
   "source": [
    "# Proxy settings\n",
    "os.environ['http_proxy'] = 'http://127.0.0.1:10809'\n",
    "os.environ['https_proxy'] = 'http://127.0.0.1:10809'\n",
    "os.environ['all_proxy'] = 'socks5://127.0.0.1:10809'\n"
   ]
  },
  {
   "cell_type": "code",
   "execution_count": 3,
   "metadata": {},
   "outputs": [],
   "source": [
    "# 配置API密钥\n",
    "gemini_api_key = os.environ['GEMINI_API_KEY']\n",
    "genai.configure(api_key=gemini_api_key,transport='rest')"
   ]
  },
  {
   "cell_type": "code",
   "execution_count": 5,
   "metadata": {},
   "outputs": [],
   "source": [
    "model = genai.GenerativeModel('gemini-1.5-flash')"
   ]
  },
  {
   "cell_type": "code",
   "execution_count": 7,
   "metadata": {},
   "outputs": [
    {
     "name": "stdout",
     "output_type": "stream",
     "text": [
      "total_tokens: 19\n",
      "\n"
     ]
    }
   ],
   "source": [
    "prompt = 'Hi, I want to learn something about the LLM.Please recommand some materials for me.'\n",
    "\n",
    "# call \"count_tokens\" to get the input token count\n",
    "print(model.count_tokens(prompt))\n"
   ]
  },
  {
   "cell_type": "code",
   "execution_count": 8,
   "metadata": {},
   "outputs": [
    {
     "name": "stdout",
     "output_type": "stream",
     "text": [
      "response:\n",
      "GenerateContentResponse(\n",
      "    done=True,\n",
      "    iterator=None,\n",
      "    result=protos.GenerateContentResponse({\n",
      "      \"candidates\": [\n",
      "        {\n",
      "          \"content\": {\n",
      "            \"parts\": [\n",
      "              {\n",
      "                \"text\": \"I can definitely help you with that!  Learning about Large Language Models (LLMs) is a great goal. To give you the best recommendations, tell me a bit more about what you're interested in:\\n\\n**1. What's your background?**\\n   * Are you a complete beginner to AI and machine learning?\\n   * Do you have some programming experience?\\n   * Are you familiar with other deep learning concepts?\\n\\n**2. What are your learning goals?**\\n   * Do you want to understand how LLMs work under the hood?\\n   * Are you interested in using LLMs in practical applications?\\n   * Do you want to explore the ethical and societal implications of LLMs?\\n\\n**3. What's your preferred learning format?**\\n   * Do you prefer reading articles and books?\\n   * Would you like to watch video lectures or tutorials?\\n   * Are you interested in hands-on coding exercises?\\n\\nOnce you tell me more about your interests, I can suggest materials that are relevant and engaging for you.\\n\\n**Here are some general resources to get you started:**\\n\\n**Beginner-friendly articles and blog posts:**\\n\\n* **\\\"What are Large Language Models (LLMs)?\\\" by Google AI:** [https://ai.googleblog.com/2022/01/what-are-large-language-models-llms.html](https://ai.googleblog.com/2022/01/what-are-large-language-models-llms.html)\\n* **\\\"A Gentle Introduction to Large Language Models (LLMs)\\\" by DeepLearning.AI:** [https://www.deeplearning.ai/blog/a-gentle-introduction-to-large-language-models-llms/](https://www.deeplearning.ai/blog/a-gentle-introduction-to-large-language-models-llms/)\\n* **\\\"The Illustrated Transformer\\\" by Jay Alammar:** [http://jalammar.github.io/illustrated-transformer/](http://jalammar.github.io/illustrated-transformer/) (This one is more visual, but it explains the transformer architecture, which is the basis for many LLMs.)\\n\\n**Books:**\\n\\n* **\\\"Deep Learning\\\" by Ian Goodfellow, Yoshua Bengio, and Aaron Courville:** (This is a comprehensive textbook, but it's a bit technical. It covers the theory behind LLMs.)\\n* **\\\"Speech and Language Processing\\\" by Daniel Jurafsky and James H. Martin:** (This book covers natural language processing in general, including chapters on LLMs.)\\n\\n**Courses:**\\n\\n* **\\\"Natural Language Processing Specialization\\\" on Coursera:** [https://www.coursera.org/specializations/natural-language-processing](https://www.coursera.org/specializations/natural-language-processing) (This specialization provides a good introduction to NLP, including LLMs.)\\n* **\\\"Deep Learning Specialization\\\" on Coursera:** [https://www.coursera.org/specializations/deep-learning](https://www.coursera.org/specializations/deep-learning) (This specialization covers deep learning concepts in general, which are relevant to LLMs.)\\n\\n**I'm excited to help you learn more about LLMs!** \\n\"\n",
      "              }\n",
      "            ],\n",
      "            \"role\": \"model\"\n",
      "          },\n",
      "          \"finish_reason\": \"STOP\",\n",
      "          \"index\": 0,\n",
      "          \"safety_ratings\": [\n",
      "            {\n",
      "              \"category\": \"HARM_CATEGORY_SEXUALLY_EXPLICIT\",\n",
      "              \"probability\": \"NEGLIGIBLE\"\n",
      "            },\n",
      "            {\n",
      "              \"category\": \"HARM_CATEGORY_HATE_SPEECH\",\n",
      "              \"probability\": \"NEGLIGIBLE\"\n",
      "            },\n",
      "            {\n",
      "              \"category\": \"HARM_CATEGORY_HARASSMENT\",\n",
      "              \"probability\": \"NEGLIGIBLE\"\n",
      "            },\n",
      "            {\n",
      "              \"category\": \"HARM_CATEGORY_DANGEROUS_CONTENT\",\n",
      "              \"probability\": \"NEGLIGIBLE\"\n",
      "            }\n",
      "          ],\n",
      "          \"citation_metadata\": {\n",
      "            \"citation_sources\": [\n",
      "              {\n",
      "                \"start_index\": 2152,\n",
      "                \"end_index\": 2279,\n",
      "                \"uri\": \"https://github.com/Ankit-Kumar-Saini/Coursera_Natural_Language_Processing_Specialization\",\n",
      "                \"license_\": \"\"\n",
      "              },\n",
      "              {\n",
      "                \"start_index\": 2212,\n",
      "                \"end_index\": 2347,\n",
      "                \"uri\": \"https://github.com/GDSC-IIIT-V/computer-science-resources\",\n",
      "                \"license_\": \"\"\n",
      "              }\n",
      "            ]\n",
      "          }\n",
      "        }\n",
      "      ],\n",
      "      \"usage_metadata\": {\n",
      "        \"prompt_token_count\": 20,\n",
      "        \"candidates_token_count\": 701,\n",
      "        \"total_token_count\": 721\n",
      "      }\n",
      "    }),\n",
      ")\n"
     ]
    }
   ],
   "source": [
    "response = model.generate_content(prompt)\n",
    "print(response)"
   ]
  },
  {
   "cell_type": "code",
   "execution_count": 9,
   "metadata": {},
   "outputs": [
    {
     "name": "stdout",
     "output_type": "stream",
     "text": [
      "prompt_token_count: 20\n",
      "candidates_token_count: 701\n",
      "total_token_count: 721\n",
      "\n"
     ]
    }
   ],
   "source": [
    "print(response.usage_metadata)"
   ]
  },
  {
   "cell_type": "code",
   "execution_count": 12,
   "metadata": {},
   "outputs": [
    {
     "name": "stdout",
     "output_type": "stream",
     "text": [
      "I can definitely help you with that!  Learning about Large Language Models (LLMs) is a great goal. To give you the best recommendations, tell me a bit more about what you're interested in:\n",
      "\n",
      "**1. What's your background?**\n",
      "   * Are you a complete beginner to AI and machine learning?\n",
      "   * Do you have some programming experience?\n",
      "   * Are you familiar with other deep learning concepts?\n",
      "\n",
      "**2. What are your learning goals?**\n",
      "   * Do you want to understand how LLMs work under the hood?\n",
      "   * Are you interested in using LLMs in practical applications?\n",
      "   * Do you want to explore the ethical and societal implications of LLMs?\n",
      "\n",
      "**3. What's your preferred learning format?**\n",
      "   * Do you prefer reading articles and books?\n",
      "   * Would you like to watch video lectures or tutorials?\n",
      "   * Are you interested in hands-on coding exercises?\n",
      "\n",
      "Once you tell me more about your interests, I can suggest materials that are relevant and engaging for you.\n",
      "\n",
      "**Here are some general resources to get you started:**\n",
      "\n",
      "**Beginner-friendly articles and blog posts:**\n",
      "\n",
      "* **\"What are Large Language Models (LLMs)?\" by Google AI:** [https://ai.googleblog.com/2022/01/what-are-large-language-models-llms.html](https://ai.googleblog.com/2022/01/what-are-large-language-models-llms.html)\n",
      "* **\"A Gentle Introduction to Large Language Models (LLMs)\" by DeepLearning.AI:** [https://www.deeplearning.ai/blog/a-gentle-introduction-to-large-language-models-llms/](https://www.deeplearning.ai/blog/a-gentle-introduction-to-large-language-models-llms/)\n",
      "* **\"The Illustrated Transformer\" by Jay Alammar:** [http://jalammar.github.io/illustrated-transformer/](http://jalammar.github.io/illustrated-transformer/) (This one is more visual, but it explains the transformer architecture, which is the basis for many LLMs.)\n",
      "\n",
      "**Books:**\n",
      "\n",
      "* **\"Deep Learning\" by Ian Goodfellow, Yoshua Bengio, and Aaron Courville:** (This is a comprehensive textbook, but it's a bit technical. It covers the theory behind LLMs.)\n",
      "* **\"Speech and Language Processing\" by Daniel Jurafsky and James H. Martin:** (This book covers natural language processing in general, including chapters on LLMs.)\n",
      "\n",
      "**Courses:**\n",
      "\n",
      "* **\"Natural Language Processing Specialization\" on Coursera:** [https://www.coursera.org/specializations/natural-language-processing](https://www.coursera.org/specializations/natural-language-processing) (This specialization provides a good introduction to NLP, including LLMs.)\n",
      "* **\"Deep Learning Specialization\" on Coursera:** [https://www.coursera.org/specializations/deep-learning](https://www.coursera.org/specializations/deep-learning) (This specialization covers deep learning concepts in general, which are relevant to LLMs.)\n",
      "\n",
      "**I'm excited to help you learn more about LLMs!** \n",
      "\n"
     ]
    }
   ],
   "source": [
    "print(response.text)"
   ]
  },
  {
   "cell_type": "code",
   "execution_count": null,
   "metadata": {},
   "outputs": [],
   "source": []
  }
 ],
 "metadata": {
  "kernelspec": {
   "display_name": "venv",
   "language": "python",
   "name": "python3"
  },
  "language_info": {
   "codemirror_mode": {
    "name": "ipython",
    "version": 3
   },
   "file_extension": ".py",
   "mimetype": "text/x-python",
   "name": "python",
   "nbconvert_exporter": "python",
   "pygments_lexer": "ipython3",
   "version": "3.11.7"
  }
 },
 "nbformat": 4,
 "nbformat_minor": 2
}
